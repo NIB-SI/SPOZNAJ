{
 "cells": [
  {
   "cell_type": "markdown",
   "metadata": {},
   "source": [
    "# Scrape web\n",
    "zagor"
   ]
  },
  {
   "cell_type": "markdown",
   "metadata": {},
   "source": [
    "# libraries"
   ]
  },
  {
   "cell_type": "code",
   "execution_count": 1,
   "metadata": {},
   "outputs": [
    {
     "name": "stderr",
     "output_type": "stream",
     "text": [
      "c:\\mzInstall\\Miniconda3\\lib\\site-packages\\requests\\__init__.py:102: RequestsDependencyWarning: urllib3 (1.26.7) or chardet (5.2.0)/charset_normalizer (2.0.4) doesn't match a supported version!\n",
      "  warnings.warn(\"urllib3 ({}) or chardet ({})/charset_normalizer ({}) doesn't match a supported \"\n"
     ]
    }
   ],
   "source": [
    "# upgrade pip with python.exe -m pip install --upgrade pip\n",
    "# open terminal and install with python -m pip install LIBRARY\n",
    "import requests\n",
    "from bs4 import BeautifulSoup\n",
    "import pandas as pd\n",
    "import re\n",
    "import os\n",
    "import openpyxl\n"
   ]
  },
  {
   "cell_type": "markdown",
   "metadata": {},
   "source": [
    "# base url"
   ]
  },
  {
   "cell_type": "code",
   "execution_count": 2,
   "metadata": {},
   "outputs": [],
   "source": [
    "base_url = \"https://projekt-spoznaj.si/videoposnetki-in-predstavitve/fair/\""
   ]
  },
  {
   "cell_type": "markdown",
   "metadata": {},
   "source": [
    "# f-ctions"
   ]
  },
  {
   "cell_type": "markdown",
   "metadata": {},
   "source": [
    "## scrape: titles and dates\n",
    "User-Agent header that mimics a typical web browser (like Chrome) to avoid being blocked by the server -> able to bypass the 403 error and fetch the pages\n",
    "by ChatGPT"
   ]
  },
  {
   "cell_type": "code",
   "execution_count": 3,
   "metadata": {},
   "outputs": [],
   "source": [
    "# Function to scrape lecture titles and dates from a single page\n",
    "def scrape_page(url):\n",
    "    # Define headers to mimic a browser request\n",
    "    headers = {\n",
    "        'User-Agent': 'Mozilla/5.0 (Windows NT 10.0; Win64; x64) AppleWebKit/537.36 (KHTML, like Gecko) Chrome/91.0.4472.124 Safari/537.36'\n",
    "    }\n",
    "    \n",
    "    # Send request and parse the HTML content with headers\n",
    "    response = requests.get(url, headers=headers)\n",
    "    \n",
    "    # Check the response status\n",
    "    if response.status_code != 200:\n",
    "        print(f\"Failed to fetch {url}, status code: {response.status_code}\")\n",
    "        return pd.DataFrame()  # Return empty DataFrame if page can't be loaded\n",
    "    \n",
    "    print(f\"Successfully fetched {url}\")\n",
    "    webpage = BeautifulSoup(response.text, 'html.parser')\n",
    "    \n",
    "    # Extract lecture titles\n",
    "    lecture_titles = [title.get_text(strip=True) for title in webpage.find_all('a', class_='aiovg-link-title')]\n",
    "    \n",
    "    # Extract dates and clean them\n",
    "    dates = [re.search(r'\\((\\d{1,2}\\. \\d{1,2}\\. \\d{4})\\)', title).group(1) if re.search(r'\\((\\d{1,2}\\. \\d{1,2}\\. \\d{4})\\)', title) else None for title in lecture_titles]\n",
    "    \n",
    "    # Clean the titles (remove dates)\n",
    "    cleaned_titles = [re.sub(r'\\s*\\(\\d{1,2}\\. \\d{1,2}\\. \\d{4}\\)', '', title).strip() for title in lecture_titles]\n",
    "    \n",
    "    # Convert to DataFrame\n",
    "    data = {\n",
    "        'Date': pd.to_datetime(dates, format='%d. %m. %Y'),\n",
    "        'Lecture_Title': cleaned_titles\n",
    "    }\n",
    "    return pd.DataFrame(data)"
   ]
  },
  {
   "cell_type": "markdown",
   "metadata": {},
   "source": [
    "# scrape"
   ]
  },
  {
   "cell_type": "code",
   "execution_count": 4,
   "metadata": {},
   "outputs": [
    {
     "name": "stdout",
     "output_type": "stream",
     "text": [
      "Successfully fetched https://projekt-spoznaj.si/videoposnetki-in-predstavitve/fair/\n",
      "Successfully fetched https://projekt-spoznaj.si/videoposnetki-in-predstavitve/fair/page/2/\n"
     ]
    }
   ],
   "source": [
    "urls = [base_url, f\"{base_url}page/2/\"] # for exact links\n",
    "\n",
    "\n",
    "lectures_df = pd.DataFrame()\n",
    "for url in urls:\n",
    "    lectures_df = pd.concat([lectures_df, scrape_page(url)], ignore_index=True)"
   ]
  },
  {
   "cell_type": "markdown",
   "metadata": {},
   "source": [
    "# write res"
   ]
  },
  {
   "cell_type": "code",
   "execution_count": 5,
   "metadata": {},
   "outputs": [],
   "source": [
    "output_folder = os.path.join('..', 'output')\n",
    "output_filename = \"Py-lecture-titles-dates.xlsx\"\n",
    "\n",
    "os.makedirs(output_folder, exist_ok=True)\n",
    "\n",
    "output_file_path = os.path.join(output_folder, output_filename)\n",
    "lectures_df.to_excel(output_file_path, index=False)"
   ]
  }
 ],
 "metadata": {
  "kernelspec": {
   "display_name": "base",
   "language": "python",
   "name": "python3"
  },
  "language_info": {
   "codemirror_mode": {
    "name": "ipython",
    "version": 3
   },
   "file_extension": ".py",
   "mimetype": "text/x-python",
   "name": "python",
   "nbconvert_exporter": "python",
   "pygments_lexer": "ipython3",
   "version": "3.9.7"
  }
 },
 "nbformat": 4,
 "nbformat_minor": 2
}
