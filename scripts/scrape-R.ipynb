{
 "cells": [
  {
   "cell_type": "markdown",
   "metadata": {},
   "source": [
    "# scrape web\n",
    "zagor"
   ]
  },
  {
   "cell_type": "markdown",
   "metadata": {},
   "source": [
    "# libraries\n",
    "try not to add libraries globally, rather call f-ctions with ```library::f-ction```"
   ]
  },
  {
   "cell_type": "code",
   "execution_count": 1,
   "metadata": {
    "vscode": {
     "languageId": "r"
    }
   },
   "outputs": [],
   "source": [
    "library(magrittr)"
   ]
  },
  {
   "cell_type": "markdown",
   "metadata": {},
   "source": [
    "# define the base URL"
   ]
  },
  {
   "cell_type": "code",
   "execution_count": 2,
   "metadata": {
    "vscode": {
     "languageId": "r"
    }
   },
   "outputs": [],
   "source": [
    "base_url = \"https://projekt-spoznaj.si/videoposnetki-in-predstavitve/fair/\""
   ]
  },
  {
   "cell_type": "markdown",
   "metadata": {},
   "source": [
    "# f-ctions"
   ]
  },
  {
   "cell_type": "markdown",
   "metadata": {},
   "source": [
    "## find the total number of pages\n",
    "*_Denote_*: page 1 has no number"
   ]
  },
  {
   "cell_type": "code",
   "execution_count": 3,
   "metadata": {
    "vscode": {
     "languageId": "r"
    }
   },
   "outputs": [],
   "source": [
    "find_total_pages = function(base_url) {\n",
    "    current_page = 1\n",
    "    has_next = TRUE\n",
    "    last_page = 1\n",
    "    \n",
    "    while (has_next) {\n",
    "    # Construct URL for the current page\n",
    "    page_url = ifelse(current_page == 1, base_url, paste0(base_url, \"page/\", current_page, \"/\"))\n",
    "    \n",
    "    # Read the webpage\n",
    "    webpage = tryCatch(rvest::read_html(page_url), error = function(e) return(NULL))\n",
    "    \n",
    "    if (is.null(webpage)) {\n",
    "        break\n",
    "    }\n",
    "    \n",
    "    # Check for the \"Next\" button\n",
    "    next_button = webpage %>%\n",
    "    rvest::html_nodes(\"a.next.page-numbers\") %>%\n",
    "    rvest::html_attr(\"href\")\n",
    "    \n",
    "    if (length(next_button) == 0) {\n",
    "    # No \"Next\" button found\n",
    "    has_next = FALSE\n",
    "    } else {\n",
    "    # Increment the counter\n",
    "    current_page = current_page + 1\n",
    "    last_page = current_page\n",
    "    }\n",
    "    \n",
    "}\n",
    "\n",
    "\n",
    "return(last_page)\n",
    "}\n"
   ]
  },
  {
   "cell_type": "markdown",
   "metadata": {},
   "source": [
    "## scrape titles and dates"
   ]
  },
  {
   "cell_type": "code",
   "execution_count": 4,
   "metadata": {
    "vscode": {
     "languageId": "r"
    }
   },
   "outputs": [],
   "source": [
    "scrape_page = function(url) {\n",
    "    \n",
    "    # Read the webpage content\n",
    "    webpage = rvest::read_html(url)\n",
    "    \n",
    "    # Extract lecture titles\n",
    "    lecture_titles = webpage %>%\n",
    "    rvest::html_nodes(\".aiovg-title a.aiovg-link-title\") %>%\n",
    "    rvest::html_text()\n",
    "\n",
    "    # Create a data.table for the extracted data\n",
    "    data.table::data.table(\n",
    "    Date = lecture_titles %>%\n",
    "    stringr::str_extract(\"\\\\(\\\\d{1,2}\\\\. \\\\d{1,2}\\\\. \\\\d{4}\\\\)\") %>% # Extract dates\n",
    "    stringr::str_remove_all(\"[()]\") %>% # Remove parentheses\n",
    "    as.Date(format = \"%d. %m. %Y\"), # Convert to Date format\n",
    "    Lecture_Title = lecture_titles %>%\n",
    "    stringr::str_remove(\"\\\\s*\\\\(\\\\d{1,2}\\\\. \\\\d{1,2}\\\\. \\\\d{4}\\\\)\") %>% # Remove dates from titles\n",
    "    stringr::str_trim() # Remove whitespace and newlines\n",
    "    )\n",
    "}"
   ]
  },
  {
   "cell_type": "markdown",
   "metadata": {},
   "source": [
    "# scrape"
   ]
  },
  {
   "cell_type": "code",
   "execution_count": 5,
   "metadata": {
    "vscode": {
     "languageId": "r"
    }
   },
   "outputs": [],
   "source": [
    "total_pages = find_total_pages(base_url)\n",
    "urls = c(base_url, paste0(base_url, \"page/\", 2:total_pages, \"/\"))\n",
    "lectures_dt = data.table::rbindlist(lapply(urls, scrape_page))"
   ]
  },
  {
   "cell_type": "markdown",
   "metadata": {},
   "source": [
    "#  write res"
   ]
  },
  {
   "cell_type": "code",
   "execution_count": null,
   "metadata": {
    "vscode": {
     "languageId": "r"
    }
   },
   "outputs": [],
   "source": [
    "fp = file.path('..', 'output')\n",
    "fn = \"R-lecture-titles-dates.xlsx\"\n",
    "openxlsx::write.xlsx(lectures_dt, file.path(fp, fn))"
   ]
  }
 ],
 "metadata": {
  "kernelspec": {
   "display_name": "R",
   "language": "R",
   "name": "ir"
  },
  "language_info": {
   "codemirror_mode": "r",
   "file_extension": ".r",
   "mimetype": "text/x-r-source",
   "name": "R",
   "pygments_lexer": "r",
   "version": "4.3.1"
  }
 },
 "nbformat": 4,
 "nbformat_minor": 2
}
