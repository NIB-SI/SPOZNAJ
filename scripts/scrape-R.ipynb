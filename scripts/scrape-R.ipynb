{
 "cells": [
  {
   "cell_type": "markdown",
   "metadata": {},
   "source": [
    "# scrape web\n",
    "zagor"
   ]
  },
  {
   "cell_type": "markdown",
   "metadata": {},
   "source": [
    "# libraries\n",
    "try not to add libraries globally, rather call f-ctions with ```library::f-ction```"
   ]
  },
  {
   "cell_type": "code",
   "execution_count": 1,
   "metadata": {
    "vscode": {
     "languageId": "r"
    }
   },
   "outputs": [],
   "source": [
    "library(magrittr)"
   ]
  },
  {
   "cell_type": "markdown",
   "metadata": {},
   "source": [
    "# define the base URL"
   ]
  },
  {
   "cell_type": "code",
   "execution_count": 2,
   "metadata": {
    "vscode": {
     "languageId": "r"
    }
   },
   "outputs": [],
   "source": [
    "base_url = \"https://projekt-spoznaj.si/videoposnetki-in-predstavitve/fair/\""
   ]
  },
  {
   "cell_type": "markdown",
   "metadata": {},
   "source": [
    "# f-ctions"
   ]
  },
  {
   "cell_type": "markdown",
   "metadata": {},
   "source": [
    "## find the total number of pages\n",
    "*_Denote_*: page 1 has no number"
   ]
  },
  {
   "cell_type": "code",
   "execution_count": 3,
   "metadata": {
    "vscode": {
     "languageId": "r"
    }
   },
   "outputs": [],
   "source": [
    "find_total_pages = function(base_url) {\n",
    "    current_page = 1\n",
    "    has_next = TRUE\n",
    "    last_page = 1\n",
    "    \n",
    "    while (has_next) {\n",
    "    # Construct URL for the current page\n",
    "    page_url = ifelse(current_page == 1, base_url, paste0(base_url, \"page/\", current_page, \"/\"))\n",
    "    \n",
    "    # Read the webpage\n",
    "    webpage = tryCatch(rvest::read_html(page_url), error = function(e) return(NULL))\n",
    "    \n",
    "    if (is.null(webpage)) {\n",
    "        break\n",
    "    }\n",
    "    \n",
    "    # Check for the \"Next\" button\n",
    "    next_button = webpage %>%\n",
    "    rvest::html_nodes(\"a.next.page-numbers\") %>%\n",
    "    rvest::html_attr(\"href\")\n",
    "    \n",
    "    if (length(next_button) == 0) {\n",
    "    # No \"Next\" button found\n",
    "    has_next = FALSE\n",
    "    } else {\n",
    "    # Increment the counter\n",
    "    current_page = current_page + 1\n",
    "    last_page = current_page\n",
    "    }\n",
    "    \n",
    "}\n",
    "\n",
    "\n",
    "return(last_page)\n",
    "}\n"
   ]
  },
  {
   "cell_type": "markdown",
   "metadata": {},
   "source": [
    "## scrape titles and dates"
   ]
  },
  {
   "cell_type": "code",
   "execution_count": 4,
   "metadata": {
    "vscode": {
     "languageId": "r"
    }
   },
   "outputs": [],
   "source": [
    "scrape_page = function(url) {\n",
    "    \n",
    "    # Read the webpage content\n",
    "    webpage = rvest::read_html(url)\n",
    "    \n",
    "    # Extract lecture titles\n",
    "    lecture_titles = webpage %>%\n",
    "    rvest::html_nodes(\".aiovg-title a.aiovg-link-title\") %>%\n",
    "    rvest::html_text()\n",
    "\n",
    "    # Create a data.table for the extracted data\n",
    "    data.table::data.table(\n",
    "    Date = lecture_titles %>%\n",
    "    stringr::str_extract(\"\\\\(\\\\d{1,2}\\\\. \\\\d{1,2}\\\\. \\\\d{4}\\\\)\") %>% # Extract dates\n",
    "    stringr::str_remove_all(\"[()]\") %>% # Remove parentheses\n",
    "    as.Date(format = \"%d. %m. %Y\"), # Convert to Date format\n",
    "    Lecture_Title = lecture_titles %>%\n",
    "    stringr::str_remove(\"\\\\s*\\\\(\\\\d{1,2}\\\\. \\\\d{1,2}\\\\. \\\\d{4}\\\\)\") %>% # Remove dates from titles\n",
    "    stringr::str_trim() # Remove whitespace and newlines\n",
    "    )\n",
    "}"
   ]
  },
  {
   "cell_type": "markdown",
   "metadata": {},
   "source": [
    "# scrape"
   ]
  },
  {
   "cell_type": "code",
   "execution_count": 5,
   "metadata": {
    "vscode": {
     "languageId": "r"
    }
   },
   "outputs": [],
   "source": [
    "total_pages = find_total_pages(base_url)\n",
    "urls = c(base_url, paste0(base_url, \"page/\", 2:total_pages, \"/\"))\n",
    "lectures_dt = data.table::rbindlist(lapply(urls, scrape_page))"
   ]
  },
  {
   "cell_type": "markdown",
   "metadata": {},
   "source": [
    "#  write res"
   ]
  },
  {
   "cell_type": "code",
   "execution_count": 6,
   "metadata": {
    "vscode": {
     "languageId": "r"
    }
   },
   "outputs": [],
   "source": [
    "fp = file.path('..', 'output')\n",
    "fn = \"R-lecture-titles-dates.xlsx\"\n",
    "openxlsx::write.xlsx(lectures_dt, file.path(fp, fn))"
   ]
  },
  {
   "cell_type": "markdown",
   "metadata": {},
   "source": [
    "# session info"
   ]
  },
  {
   "cell_type": "code",
   "execution_count": 7,
   "metadata": {
    "vscode": {
     "languageId": "r"
    }
   },
   "outputs": [
    {
     "data": {
      "text/plain": [
       "R version 4.3.1 (2023-06-16 ucrt)\n",
       "Platform: x86_64-w64-mingw32/x64 (64-bit)\n",
       "Running under: Windows 10 x64 (build 19045)\n",
       "\n",
       "Matrix products: default\n",
       "\n",
       "\n",
       "locale:\n",
       "[1] LC_COLLATE=English_United Kingdom.utf8 \n",
       "[2] LC_CTYPE=English_United Kingdom.utf8   \n",
       "[3] LC_MONETARY=English_United Kingdom.utf8\n",
       "[4] LC_NUMERIC=C                           \n",
       "[5] LC_TIME=English_United Kingdom.utf8    \n",
       "\n",
       "time zone: Europe/Ljubljana\n",
       "tzcode source: internal\n",
       "\n",
       "attached base packages:\n",
       "[1] stats     graphics  grDevices utils     datasets  methods   base     \n",
       "\n",
       "other attached packages:\n",
       "[1] magrittr_2.0.3\n",
       "\n",
       "loaded via a namespace (and not attached):\n",
       " [1] zip_2.3.1         crayon_1.5.3      vctrs_0.6.5       httr_1.4.7       \n",
       " [5] cli_3.6.3         rlang_1.1.4       stringi_1.8.4     data.table_1.16.0\n",
       " [9] jsonlite_1.8.8    glue_1.7.0        selectr_0.4-2     htmltools_0.5.8.1\n",
       "[13] IRdisplay_1.1     IRkernel_1.3.2    fansi_1.0.6       evaluate_0.24.0  \n",
       "[17] fastmap_1.2.0     base64enc_0.1-3   openxlsx_4.2.7    lifecycle_1.0.4  \n",
       "[21] stringr_1.5.1     compiler_4.3.1    rvest_1.0.4       Rcpp_1.0.13      \n",
       "[25] pbdZMQ_0.3-12     digest_0.6.37     R6_2.5.1          repr_1.1.7       \n",
       "[29] utf8_1.2.4        pillar_1.9.0      curl_5.2.2        uuid_1.2-1       \n",
       "[33] tools_4.3.1       xml2_1.3.6       "
      ]
     },
     "metadata": {},
     "output_type": "display_data"
    }
   ],
   "source": [
    "sessionInfo()"
   ]
  }
 ],
 "metadata": {
  "kernelspec": {
   "display_name": "R",
   "language": "R",
   "name": "ir"
  },
  "language_info": {
   "codemirror_mode": "r",
   "file_extension": ".r",
   "mimetype": "text/x-r-source",
   "name": "R",
   "pygments_lexer": "r",
   "version": "4.3.1"
  }
 },
 "nbformat": 4,
 "nbformat_minor": 2
}
