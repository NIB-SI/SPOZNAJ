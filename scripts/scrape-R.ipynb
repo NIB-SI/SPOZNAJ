{
 "cells": [
  {
   "cell_type": "markdown",
   "metadata": {},
   "source": [
    "# scrape web\n",
    "zagor"
   ]
  },
  {
   "cell_type": "markdown",
   "metadata": {},
   "source": [
    "# libraries\n",
    "try not to add libraries globally, rather call f-ctions with ```library::f-ction```"
   ]
  },
  {
   "cell_type": "code",
   "execution_count": 1,
   "metadata": {
    "vscode": {
     "languageId": "r"
    }
   },
   "outputs": [],
   "source": [
    "library(magrittr)"
   ]
  },
  {
   "cell_type": "markdown",
   "metadata": {},
   "source": [
    "# define the base URL"
   ]
  },
  {
   "cell_type": "code",
   "execution_count": 2,
   "metadata": {
    "vscode": {
     "languageId": "r"
    }
   },
   "outputs": [],
   "source": [
    "base_url = \"https://projekt-spoznaj.si/videoposnetki-in-predstavitve/fair/\""
   ]
  },
  {
   "cell_type": "markdown",
   "metadata": {},
   "source": [
    "# with rvest"
   ]
  },
  {
   "cell_type": "markdown",
   "metadata": {},
   "source": [
    "## f-ctions"
   ]
  },
  {
   "cell_type": "markdown",
   "metadata": {},
   "source": [
    "### find the total number of pages\n",
    "*_Denote_*: page 1 has no number"
   ]
  },
  {
   "cell_type": "code",
   "execution_count": 3,
   "metadata": {
    "vscode": {
     "languageId": "r"
    }
   },
   "outputs": [],
   "source": [
    "find_total_pages = function(base_url) {\n",
    "    current_page = 1\n",
    "    has_next = TRUE\n",
    "    last_page = 1\n",
    "    \n",
    "    while (has_next) {\n",
    "    # Construct URL for the current page\n",
    "    page_url = ifelse(current_page == 1, base_url, paste0(base_url, \"page/\", current_page, \"/\"))\n",
    "    \n",
    "    # Read the webpage\n",
    "    webpage = tryCatch(rvest::read_html(page_url), error = function(e) return(NULL))\n",
    "    \n",
    "    if (is.null(webpage)) {\n",
    "        break\n",
    "    }\n",
    "    \n",
    "    # Check for the \"Next\" button\n",
    "    next_button = webpage %>%\n",
    "    rvest::html_nodes(\"a.next.page-numbers\") %>%\n",
    "    rvest::html_attr(\"href\")\n",
    "    \n",
    "    if (length(next_button) == 0) {\n",
    "    # No \"Next\" button found\n",
    "    has_next = FALSE\n",
    "    } else {\n",
    "    # Increment the counter\n",
    "    current_page = current_page + 1\n",
    "    last_page = current_page\n",
    "    }\n",
    "    \n",
    "}\n",
    "\n",
    "\n",
    "return(last_page)\n",
    "}\n"
   ]
  },
  {
   "cell_type": "markdown",
   "metadata": {},
   "source": [
    "### scrape titles and dates"
   ]
  },
  {
   "cell_type": "code",
   "execution_count": 4,
   "metadata": {
    "vscode": {
     "languageId": "r"
    }
   },
   "outputs": [],
   "source": [
    "scrape_page = function(url) {\n",
    "    \n",
    "    # Read the webpage content\n",
    "    webpage = rvest::read_html(url)\n",
    "    \n",
    "    # Extract lecture titles\n",
    "    lecture_titles = webpage %>%\n",
    "    rvest::html_nodes(\".aiovg-title a.aiovg-link-title\") %>%\n",
    "    rvest::html_text()\n",
    "\n",
    "    # Create a data.table for the extracted data\n",
    "    data.table::data.table(\n",
    "    Date = lecture_titles %>%\n",
    "    stringr::str_extract(\"\\\\(\\\\d{1,2}\\\\. \\\\d{1,2}\\\\. \\\\d{4}\\\\)\") %>% # Extract dates\n",
    "    stringr::str_remove_all(\"[()]\") %>% # Remove parentheses\n",
    "    as.Date(format = \"%d. %m. %Y\"), # Convert to Date format\n",
    "    Lecture_Title = lecture_titles %>%\n",
    "    stringr::str_remove(\"\\\\s*\\\\(\\\\d{1,2}\\\\. \\\\d{1,2}\\\\. \\\\d{4}\\\\)\") %>% # Remove dates from titles\n",
    "    stringr::str_trim() # Remove whitespace and newlines\n",
    "    )\n",
    "}"
   ]
  },
  {
   "cell_type": "markdown",
   "metadata": {},
   "source": [
    "## scrape"
   ]
  },
  {
   "cell_type": "code",
   "execution_count": 5,
   "metadata": {
    "vscode": {
     "languageId": "r"
    }
   },
   "outputs": [
    {
     "name": "stdout",
     "output_type": "stream",
     "text": [
      "rename                  package:rvest                  R Documentation\n",
      "\n",
      "_\bF_\bu_\bn_\bc_\bt_\bi_\bo_\bn_\bs _\br_\be_\bn_\ba_\bm_\be_\bd _\bi_\bn _\br_\bv_\be_\bs_\bt _\b1._\b0._\b0\n",
      "\n",
      "_\bD_\be_\bs_\bc_\br_\bi_\bp_\bt_\bi_\bo_\bn:\n",
      "\n",
      "     *[Deprecated]*\n",
      "\n",
      "     rvest 1.0.0 renamed a number of functions to ensure that every\n",
      "     function has a common prefix, matching tidyverse conventions that\n",
      "     emerged since rvest was first created.\n",
      "\n",
      "        * 'set_values()' -> 'html_form_set()'\n",
      "\n",
      "        * 'submit_form()' -> 'session_submit()'\n",
      "\n",
      "        * 'xml_tag()' -> 'html_name()'\n",
      "\n",
      "        * 'xml_node()' & 'html_node()' -> 'html_element()'\n",
      "\n",
      "        * 'xml_nodes()' & 'html_nodes()' -> 'html_elements()'\n",
      "\n",
      "     ('html_node()' and 'html_nodes()' are only superseded because\n",
      "     they're so widely used.)\n",
      "\n",
      "     Additionally all session related functions gained a common prefix:\n",
      "\n",
      "        * 'html_session()' -> 'session()'\n",
      "\n",
      "        * 'forward()' -> 'session_forward()'\n",
      "\n",
      "        * 'back()' -> 'session_back()'\n",
      "\n",
      "        * 'jump_to()' -> 'session_jump_to()'\n",
      "\n",
      "        * 'follow_link()' -> 'session_follow_link()'\n",
      "\n",
      "_\bU_\bs_\ba_\bg_\be:\n",
      "\n",
      "     set_values(form, ...)\n",
      "     \n",
      "     submit_form(session, form, submit = NULL, ...)\n",
      "     \n",
      "     xml_tag(x)\n",
      "     \n",
      "     xml_node(...)\n",
      "     \n",
      "     xml_nodes(...)\n",
      "     \n",
      "     html_nodes(...)\n",
      "     \n",
      "     html_node(...)\n",
      "     \n",
      "     back(x)\n",
      "     \n",
      "     forward(x)\n",
      "     \n",
      "     jump_to(x, url, ...)\n",
      "     \n",
      "     follow_link(x, ...)\n",
      "     \n",
      "     html_session(url, ...)\n",
      "     "
     ]
    },
    {
     "name": "stdout",
     "output_type": "stream",
     "text": [
      "html_attr                package:rvest                 R Documentation\n",
      "\n",
      "_\bG_\be_\bt _\be_\bl_\be_\bm_\be_\bn_\bt _\ba_\bt_\bt_\br_\bi_\bb_\bu_\bt_\be_\bs\n",
      "\n",
      "_\bD_\be_\bs_\bc_\br_\bi_\bp_\bt_\bi_\bo_\bn:\n",
      "\n",
      "     'html_attr()' gets a single attribute; 'html_attrs()' gets all\n",
      "     attributes.\n",
      "\n",
      "_\bU_\bs_\ba_\bg_\be:\n",
      "\n",
      "     html_attr(x, name, default = NA_character_)\n",
      "     \n",
      "     html_attrs(x)\n",
      "     \n",
      "_\bA_\br_\bg_\bu_\bm_\be_\bn_\bt_\bs:\n",
      "\n",
      "       x: A document (from 'read_html()'), node set (from\n",
      "          'html_elements()'), node (from 'html_element()'), or session\n",
      "          (from 'session()').\n",
      "\n",
      "    name: Name of attribute to retrieve.\n",
      "\n",
      " default: A string used as a default value when the attribute does not\n",
      "          exist in every element.\n",
      "\n",
      "_\bV_\ba_\bl_\bu_\be:\n",
      "\n",
      "     A character vector (for 'html_attr()') or list ('html_attrs()')\n",
      "     the same length as 'x'.\n",
      "\n",
      "_\bE_\bx_\ba_\bm_\bp_\bl_\be_\bs:\n",
      "\n",
      "     html <- minimal_html('<ul>\n",
      "       <li><a href=\"https://a.com\" class=\"important\">a</a></li>\n",
      "       <li class=\"active\"><a href=\"https://c.com\">b</a></li>\n",
      "       <li><a href=\"https://c.com\">b</a></li>\n",
      "       </ul>')\n",
      "     \n",
      "     html %>% html_elements(\"a\") %>% html_attrs()\n",
      "     \n",
      "     html %>% html_elements(\"a\") %>% html_attr(\"href\")\n",
      "     html %>% html_elements(\"li\") %>% html_attr(\"class\")\n",
      "     html %>% html_elements(\"li\") %>% html_attr(\"class\", default = \"inactive\")\n",
      "     "
     ]
    }
   ],
   "source": [
    "?rvest::html_nodes\n",
    "?rvest::html_attr\n",
    "\n",
    "total_pages = find_total_pages(base_url)\n",
    "urls = c(base_url, paste0(base_url, \"page/\", 2:total_pages, \"/\"))\n",
    "lectures_dt = data.table::rbindlist(lapply(urls, scrape_page))"
   ]
  },
  {
   "cell_type": "markdown",
   "metadata": {},
   "source": [
    "##  write res"
   ]
  },
  {
   "cell_type": "code",
   "execution_count": 6,
   "metadata": {
    "vscode": {
     "languageId": "r"
    }
   },
   "outputs": [],
   "source": [
    "fp = file.path('..', 'output')\n",
    "fn = \"R-lecture-titles-dates.xlsx\"\n",
    "openxlsx::write.xlsx(lectures_dt, file.path(fp, fn))"
   ]
  },
  {
   "cell_type": "markdown",
   "metadata": {},
   "source": [
    "# with xml2"
   ]
  },
  {
   "cell_type": "markdown",
   "metadata": {},
   "source": [
    "## f-ctions"
   ]
  },
  {
   "cell_type": "markdown",
   "metadata": {},
   "source": [
    "### find the total number of pages"
   ]
  },
  {
   "cell_type": "code",
   "execution_count": 7,
   "metadata": {
    "vscode": {
     "languageId": "r"
    }
   },
   "outputs": [],
   "source": [
    "find_total_pages = function(base_url) {\n",
    "\n",
    "    current_page = 1\n",
    "    has_next = TRUE\n",
    "    last_page = 1\n",
    "\n",
    "    while (has_next) {\n",
    "    # URL\n",
    "    page_url = ifelse(current_page == 1, base_url, paste0(base_url, \"page/\", current_page, \"/\"))\n",
    "    \n",
    "    # Fetch content\n",
    "    response = httr::GET(page_url)\n",
    "    \n",
    "    # successful?\n",
    "    if (httr::status_code(response) != 200) {\n",
    "    break\n",
    "    }\n",
    "    \n",
    "    # Parse\n",
    "    webpage = xml2::read_html(httr::content(response, as = \"text\"))\n",
    "    \n",
    "    # \"Next\" button?\n",
    "    next_button = xml2::xml_find_first(webpage, \"//a[contains(@class, 'next page-numbers')]\")\n",
    "    if (is.na(next_button)) {\n",
    "    # No \"Next\" button\n",
    "    has_next = FALSE\n",
    "    } else {\n",
    "    # counter\n",
    "    current_page = current_page + 1\n",
    "    last_page = current_page\n",
    "    }\n",
    "}\n",
    "\n",
    "return(last_page)\n",
    "}"
   ]
  },
  {
   "cell_type": "markdown",
   "metadata": {},
   "source": [
    "### scrape titles and dates"
   ]
  },
  {
   "cell_type": "code",
   "execution_count": 8,
   "metadata": {
    "vscode": {
     "languageId": "r"
    }
   },
   "outputs": [],
   "source": [
    "scrape_page <- function(url) {\n",
    "    # webpage content\n",
    "    response = httr::GET(url)\n",
    "\n",
    "    # successful ?\n",
    "    if (httr::status_code(response) != 200) {\n",
    "    return(data.table::data.table(Date = as.Date(character()), Lecture_Title = character()))\n",
    "    }\n",
    "\n",
    "    # Parse\n",
    "    webpage <- xml2::read_html(httr::content(response, as = \"text\"))\n",
    "\n",
    "    # titles\n",
    "    titles_nodes <- xml2::xml_find_all(webpage, \"//div[contains(@class, 'aiovg-title')]//a[contains(@class, 'aiovg-link-title')]\")\n",
    "    lecture_titles <- xml2::xml_text(titles_nodes)\n",
    "\n",
    "    # dates\n",
    "    dates <- stringr::str_extract(lecture_titles, \"\\\\(\\\\d{1,2}\\\\. \\\\d{1,2}\\\\. \\\\d{4}\\\\)\") %>%\n",
    "    stringr::str_remove_all(\"[()]\") %>%\n",
    "    as.Date(format = \"%d. %m. %Y\")\n",
    "\n",
    "    # clean titles\n",
    "    cleaned_titles <- stringr::str_remove(lecture_titles, \"\\\\s*\\\\(\\\\d{1,2}\\\\. \\\\d{1,2}\\\\. \\\\d{4}\\\\)\") %>%\n",
    "    stringr::str_trim()\n",
    "\n",
    "    # data table\n",
    "    return(data.table::data.table(Date = dates, Lecture_Title = cleaned_titles))\n",
    "}"
   ]
  },
  {
   "cell_type": "markdown",
   "metadata": {},
   "source": [
    "## ml structure"
   ]
  },
  {
   "cell_type": "code",
   "execution_count": 9,
   "metadata": {
    "vscode": {
     "languageId": "r"
    }
   },
   "outputs": [
    {
     "data": {
      "text/plain": [
       "Response [https://projekt-spoznaj.si/videoposnetki-in-predstavitve/fair/]\n",
       "  Date: 2024-11-18 08:51\n",
       "  Status: 200\n",
       "  Content-Type: text/html; charset=UTF-8\n",
       "  Size: 169 kB\n",
       "<!DOCTYPE html>\n",
       "<!--[if IE 7]><html class=\"ie ie7\" lang=\"sl-SI\">\n",
       "<![endif]-->\n",
       "<!--[if IE 8]><html class=\"ie ie8\" lang=\"sl-SI\">\n",
       "<![endif]-->\n",
       "<!--[if !(IE 7) | !(IE 8)  ]><!--><html lang=\"sl-SI\" class=\"no-js\">\n",
       "<!--<![endif]--><head><script data-no-optimize=\"1\">var litespeed_docref=sessi...\n",
       "body {\n",
       "font-family : 'Roboto'!important;\n",
       "}</style><style id=\"wfc-style-fonts-menu_items\" type=\"text/css\" data-origin=\"...\n",
       "..."
      ]
     },
     "metadata": {},
     "output_type": "display_data"
    },
    {
     "data": {
      "text/plain": [
       "{html_document}\n",
       "<html lang=\"sl-SI\" class=\"no-js\">\n",
       "[1] <head>\\n<meta http-equiv=\"Content-Type\" content=\"text/html; charset=UTF-8 ...\n",
       "[2] <body class=\"nb-3-3-5 nb-pro-1-0-17 nimble-has-local-data-skp__post_page_ ..."
      ]
     },
     "metadata": {},
     "output_type": "display_data"
    },
    {
     "name": "stdout",
     "output_type": "stream",
     "text": [
      "xml_find_all               package:xml2                R Documentation\n",
      "\n",
      "_\bF_\bi_\bn_\bd _\bn_\bo_\bd_\be_\bs _\bt_\bh_\ba_\bt _\bm_\ba_\bt_\bc_\bh _\ba_\bn _\bx_\bp_\ba_\bt_\bh _\be_\bx_\bp_\br_\be_\bs_\bs_\bi_\bo_\bn.\n",
      "\n",
      "_\bD_\be_\bs_\bc_\br_\bi_\bp_\bt_\bi_\bo_\bn:\n",
      "\n",
      "     Xpath is like regular expressions for trees - it's worth learning\n",
      "     if you're trying to extract nodes from arbitrary locations in a\n",
      "     document. Use 'xml_find_all' to find all matches - if there's no\n",
      "     match you'll get an empty result. Use 'xml_find_first' to find a\n",
      "     specific match - if there's no match you'll get an 'xml_missing'\n",
      "     node.\n",
      "\n",
      "_\bU_\bs_\ba_\bg_\be:\n",
      "\n",
      "     xml_find_all(x, xpath, ns = xml_ns(x), ...)\n",
      "     \n",
      "     ## S3 method for class 'xml_nodeset'\n",
      "     xml_find_all(x, xpath, ns = xml_ns(x), flatten = TRUE, ...)\n",
      "     \n",
      "     xml_find_first(x, xpath, ns = xml_ns(x))\n",
      "     \n",
      "     xml_find_num(x, xpath, ns = xml_ns(x))\n",
      "     \n",
      "     xml_find_int(x, xpath, ns = xml_ns(x))\n",
      "     \n",
      "     xml_find_chr(x, xpath, ns = xml_ns(x))\n",
      "     \n",
      "     xml_find_lgl(x, xpath, ns = xml_ns(x))\n",
      "     \n",
      "_\bA_\br_\bg_\bu_\bm_\be_\bn_\bt_\bs:\n",
      "\n",
      "       x: A document, node, or node set.\n",
      "\n",
      "   xpath: A string containing an xpath (1.0) expression.\n",
      "\n",
      "      ns: Optionally, a named vector giving prefix-url pairs, as\n",
      "          produced by 'xml_ns()'. If provided, all names will be\n",
      "          explicitly qualified with the ns prefix, i.e. if the element\n",
      "          'bar' is defined in namespace 'foo', it will be called\n",
      "          'foo:bar'. (And similarly for attributes). Default namespaces\n",
      "          must be given an explicit name. The ns is ignored when using\n",
      "          'xml_name<-()' and 'xml_set_name()'.\n",
      "\n",
      "     ...: Further arguments passed to or from other methods.\n",
      "\n",
      " flatten: A logical indicating whether to return a single, flattened\n",
      "          nodeset or a list of nodesets.\n",
      "\n",
      "_\bV_\ba_\bl_\bu_\be:\n",
      "\n",
      "     'xml_find_all' returns a nodeset if applied to a node, and a\n",
      "     nodeset or a list of nodesets if applied to a nodeset. If there\n",
      "     are no matches, the nodeset(s) will be empty. Within each nodeset,\n",
      "     the result will always be unique; repeated nodes are automatically\n",
      "     de-duplicated.\n",
      "\n",
      "     'xml_find_first' returns a node if applied to a node, and a\n",
      "     nodeset if applied to a nodeset. The output is _always_ the same\n",
      "     size as the input. If there are no matches, 'xml_find_first' will\n",
      "     return a missing node; if there are multiple matches, it will\n",
      "     return the first only.\n",
      "\n",
      "     'xml_find_num', 'xml_find_chr', 'xml_find_lgl' return numeric,\n",
      "     character and logical results respectively.\n",
      "\n",
      "_\bD_\be_\bp_\br_\be_\bc_\ba_\bt_\be_\bd _\bf_\bu_\bn_\bc_\bt_\bi_\bo_\bn_\bs:\n",
      "\n",
      "     'xml_find_one()' has been deprecated. Instead use\n",
      "     'xml_find_first()'.\n",
      "\n",
      "_\bS_\be_\be _\bA_\bl_\bs_\bo:\n",
      "\n",
      "     'xml_ns_strip()' to remove the default namespaces\n",
      "\n",
      "_\bE_\bx_\ba_\bm_\bp_\bl_\be_\bs:\n",
      "\n",
      "     x <- read_xml(\"<foo><bar><baz/></bar><baz/></foo>\")\n",
      "     xml_find_all(x, \".//baz\")\n",
      "     xml_path(xml_find_all(x, \".//baz\"))\n",
      "     \n",
      "     # Note the difference between .// and //\n",
      "     # //  finds anywhere in the document (ignoring the current node)\n",
      "     # .// finds anywhere beneath the current node\n",
      "     (bar <- xml_find_all(x, \".//bar\"))\n",
      "     xml_find_all(bar, \".//baz\")\n",
      "     xml_find_all(bar, \"//baz\")\n",
      "     \n",
      "     # Find all vs find one -----------------------------------------------------\n",
      "     x <- read_xml(\"<body>\n",
      "       <p>Some <b>text</b>.</p>\n",
      "       <p>Some <b>other</b> <b>text</b>.</p>\n",
      "       <p>No bold here!</p>\n",
      "     </body>\")\n",
      "     para <- xml_find_all(x, \".//p\")\n",
      "     \n",
      "     # By default, if you apply xml_find_all to a nodeset, it finds all matches,\n",
      "     # de-duplicates them, and returns as a single nodeset. This means you\n",
      "     # never know how many results you'll get\n",
      "     xml_find_all(para, \".//b\")\n",
      "     \n",
      "     # If you set flatten to FALSE, though, xml_find_all will return a list of\n",
      "     # nodesets, where each nodeset contains the matches for the corresponding\n",
      "     # node in the original nodeset.\n",
      "     xml_find_all(para, \".//b\", flatten = FALSE)\n",
      "     \n",
      "     # xml_find_first only returns the first match per input node. If there are 0\n",
      "     # matches it will return a missing node\n",
      "     xml_find_first(para, \".//b\")\n",
      "     xml_text(xml_find_first(para, \".//b\"))\n",
      "     \n",
      "     # Namespaces ---------------------------------------------------------------\n",
      "     # If the document uses namespaces, you'll need use xml_ns to form\n",
      "     # a unique mapping between full namespace url and a short prefix\n",
      "     x <- read_xml('\n",
      "      <root xmlns:f = \"http://foo.com\" xmlns:g = \"http://bar.com\">\n",
      "        <f:doc><g:baz /></f:doc>\n",
      "        <f:doc><g:baz /></f:doc>\n",
      "      </root>\n",
      "     ')\n",
      "     xml_find_all(x, \".//f:doc\")\n",
      "     xml_find_all(x, \".//f:doc\", xml_ns(x))\n",
      "     "
     ]
    }
   ],
   "source": [
    "?xml2::xml_find_all\n",
    "\n",
    "(response = httr::GET(base_url))\n",
    "webpage = xml2::read_html(httr::content(response, as = \"text\"))\n",
    "webpage\n"
   ]
  },
  {
   "cell_type": "markdown",
   "metadata": {},
   "source": [
    "## concept"
   ]
  },
  {
   "cell_type": "code",
   "execution_count": 10,
   "metadata": {
    "vscode": {
     "languageId": "r"
    }
   },
   "outputs": [
    {
     "data": {
      "text/html": [
       "2"
      ],
      "text/latex": [
       "2"
      ],
      "text/markdown": [
       "2"
      ],
      "text/plain": [
       "[1] 2"
      ]
     },
     "metadata": {},
     "output_type": "display_data"
    },
    {
     "data": {
      "text/html": [
       "<style>\n",
       ".list-inline {list-style: none; margin:0; padding: 0}\n",
       ".list-inline>li {display: inline-block}\n",
       ".list-inline>li:not(:last-child)::after {content: \"\\00b7\"; padding: 0 .5ex}\n",
       "</style>\n",
       "<ol class=list-inline><li>'https://projekt-spoznaj.si/videoposnetki-in-predstavitve/fair/'</li><li>'https://projekt-spoznaj.si/videoposnetki-in-predstavitve/fair/page/2/'</li></ol>\n"
      ],
      "text/latex": [
       "\\begin{enumerate*}\n",
       "\\item 'https://projekt-spoznaj.si/videoposnetki-in-predstavitve/fair/'\n",
       "\\item 'https://projekt-spoznaj.si/videoposnetki-in-predstavitve/fair/page/2/'\n",
       "\\end{enumerate*}\n"
      ],
      "text/markdown": [
       "1. 'https://projekt-spoznaj.si/videoposnetki-in-predstavitve/fair/'\n",
       "2. 'https://projekt-spoznaj.si/videoposnetki-in-predstavitve/fair/page/2/'\n",
       "\n",
       "\n"
      ],
      "text/plain": [
       "[1] \"https://projekt-spoznaj.si/videoposnetki-in-predstavitve/fair/\"       \n",
       "[2] \"https://projekt-spoznaj.si/videoposnetki-in-predstavitve/fair/page/2/\""
      ]
     },
     "metadata": {},
     "output_type": "display_data"
    },
    {
     "data": {
      "text/html": [
       "<table class=\"dataframe\">\n",
       "<caption>A data.table: 6 × 2</caption>\n",
       "<thead>\n",
       "\t<tr><th scope=col>Date</th><th scope=col>Lecture_Title</th></tr>\n",
       "\t<tr><th scope=col>&lt;date&gt;</th><th scope=col>&lt;chr&gt;</th></tr>\n",
       "</thead>\n",
       "<tbody>\n",
       "\t<tr><td>2023-06-23</td><td>Odprta znanost v Evropskem raziskovalnem prostoru                            </td></tr>\n",
       "\t<tr><td>2023-09-07</td><td>Odprta znanost v Evropskem raziskovalnem prostoru, ponovitev                 </td></tr>\n",
       "\t<tr><td>2023-09-14</td><td>Nacionalna zakonodaja na področju odprte znanosti                            </td></tr>\n",
       "\t<tr><td>2023-09-21</td><td>Slovenska skupnost odprte znanosti                                           </td></tr>\n",
       "\t<tr><td>2023-09-28</td><td>Možnosti in ugodnosti pri odprtem objavljanju za slovensko akademsko skupnost</td></tr>\n",
       "\t<tr><td>2023-10-12</td><td>Platforma za odprte objave Open Research Europe                              </td></tr>\n",
       "</tbody>\n",
       "</table>\n"
      ],
      "text/latex": [
       "A data.table: 6 × 2\n",
       "\\begin{tabular}{ll}\n",
       " Date & Lecture\\_Title\\\\\n",
       " <date> & <chr>\\\\\n",
       "\\hline\n",
       "\t 2023-06-23 & Odprta znanost v Evropskem raziskovalnem prostoru                            \\\\\n",
       "\t 2023-09-07 & Odprta znanost v Evropskem raziskovalnem prostoru, ponovitev                 \\\\\n",
       "\t 2023-09-14 & Nacionalna zakonodaja na področju odprte znanosti                            \\\\\n",
       "\t 2023-09-21 & Slovenska skupnost odprte znanosti                                           \\\\\n",
       "\t 2023-09-28 & Možnosti in ugodnosti pri odprtem objavljanju za slovensko akademsko skupnost\\\\\n",
       "\t 2023-10-12 & Platforma za odprte objave Open Research Europe                              \\\\\n",
       "\\end{tabular}\n"
      ],
      "text/markdown": [
       "\n",
       "A data.table: 6 × 2\n",
       "\n",
       "| Date &lt;date&gt; | Lecture_Title &lt;chr&gt; |\n",
       "|---|---|\n",
       "| 2023-06-23 | Odprta znanost v Evropskem raziskovalnem prostoru                             |\n",
       "| 2023-09-07 | Odprta znanost v Evropskem raziskovalnem prostoru, ponovitev                  |\n",
       "| 2023-09-14 | Nacionalna zakonodaja na področju odprte znanosti                             |\n",
       "| 2023-09-21 | Slovenska skupnost odprte znanosti                                            |\n",
       "| 2023-09-28 | Možnosti in ugodnosti pri odprtem objavljanju za slovensko akademsko skupnost |\n",
       "| 2023-10-12 | Platforma za odprte objave Open Research Europe                               |\n",
       "\n"
      ],
      "text/plain": [
       "  Date      \n",
       "1 2023-06-23\n",
       "2 2023-09-07\n",
       "3 2023-09-14\n",
       "4 2023-09-21\n",
       "5 2023-09-28\n",
       "6 2023-10-12\n",
       "  Lecture_Title                                                                \n",
       "1 Odprta znanost v Evropskem raziskovalnem prostoru                            \n",
       "2 Odprta znanost v Evropskem raziskovalnem prostoru, ponovitev                 \n",
       "3 Nacionalna zakonodaja na področju odprte znanosti                            \n",
       "4 Slovenska skupnost odprte znanosti                                           \n",
       "5 Možnosti in ugodnosti pri odprtem objavljanju za slovensko akademsko skupnost\n",
       "6 Platforma za odprte objave Open Research Europe                              "
      ]
     },
     "metadata": {},
     "output_type": "display_data"
    }
   ],
   "source": [
    "total_pages = find_total_pages(base_url)\n",
    "head(total_pages)\n",
    "\n",
    "urls = c(base_url, paste0(base_url, \"page/\", 2:total_pages, \"/\"))\n",
    "head(urls)\n",
    "\n",
    "lectures_dt = data.table::rbindlist(lapply(urls, scrape_page))\n",
    "head(lectures_dt)"
   ]
  },
  {
   "cell_type": "markdown",
   "metadata": {},
   "source": [
    "# with base R"
   ]
  },
  {
   "cell_type": "markdown",
   "metadata": {},
   "source": [
    "## f-ctions"
   ]
  },
  {
   "cell_type": "code",
   "execution_count": 11,
   "metadata": {
    "vscode": {
     "languageId": "r"
    }
   },
   "outputs": [],
   "source": [
    "find_total_pages = function(base_url) {\n",
    "\n",
    "    current_page = 1\n",
    "    has_next = TRUE\n",
    "    last_page = 1\n",
    "\n",
    "    while (has_next) {\n",
    "    # URL\n",
    "    page_url = ifelse(current_page == 1, base_url, paste0(base_url, \"page/\", current_page, \"/\"))\n",
    "    \n",
    "    # content\n",
    "    response = httr::GET(page_url)\n",
    "    \n",
    "    # successful ?\n",
    "    if (httr::status_code(response) != 200) {\n",
    "    break\n",
    "    }\n",
    "    \n",
    "    # HTML as string\n",
    "    webpage = httr::content(response, as = \"text\", encoding = \"UTF-8\")\n",
    "    \n",
    "    # \"Next\" button ?\n",
    "    if (grepl(\"class=\\\"next page-numbers\\\"\", webpage)) {\n",
    "    # \"Next\" button exists\n",
    "    current_page = current_page + 1\n",
    "    last_page = current_page\n",
    "    } else {\n",
    "    # No \"Next\" button\n",
    "    has_next = FALSE\n",
    "    }\n",
    "}\n",
    "\n",
    "return(last_page)\n",
    "}"
   ]
  },
  {
   "cell_type": "code",
   "execution_count": 12,
   "metadata": {
    "vscode": {
     "languageId": "r"
    }
   },
   "outputs": [],
   "source": [
    "scrape_page = function(url) {\n",
    "    # webpage content\n",
    "    response = httr::GET(url)\n",
    "\n",
    "    # successful ?\n",
    "    if (httr::status_code(response) != 200) {\n",
    "    return(data.table::data.table(Date = as.Date(character()), Lecture_Title = character()))\n",
    "    }\n",
    "\n",
    "    # HTML as string\n",
    "    webpage = httr::content(response, as = \"text\", encoding = \"UTF-8\")\n",
    "\n",
    "    # regex\n",
    "    ## titles\n",
    "    title_pattern = \"<a[^>]*class=\\\"aiovg-link-title\\\"[^>]*>(.*?)</a>\"\n",
    "    lecture_titles = regmatches(webpage, gregexpr(title_pattern, webpage))[[1]]\n",
    "    lecture_titles = gsub(title_pattern, \"\\\\1\", lecture_titles)\n",
    "\n",
    "    # dates\n",
    "    dates = regmatches(lecture_titles, gregexpr(\"\\\\(\\\\d{1,2}\\\\. \\\\d{1,2}\\\\. \\\\d{4}\\\\)\", lecture_titles))\n",
    "    dates = unlist(dates)\n",
    "    dates = gsub(\"[()]\", \"\", dates)\n",
    "    dates = as.Date(dates, format = \"%d. %m. %Y\")\n",
    "\n",
    "    \n",
    "    cleaned_titles = gsub(\"\\\\s*\\\\(\\\\d{1,2}\\\\. \\\\d{1,2}\\\\. \\\\d{4}\\\\)\", \"\", lecture_titles)\n",
    "    cleaned_titles = trimws(cleaned_titles)\n",
    "\n",
    "    # data table\n",
    "    data.table::data.table(Date = dates, Lecture_Title = cleaned_titles)\n",
    "}"
   ]
  },
  {
   "cell_type": "markdown",
   "metadata": {},
   "source": [
    "## concept"
   ]
  },
  {
   "cell_type": "code",
   "execution_count": 13,
   "metadata": {
    "vscode": {
     "languageId": "r"
    }
   },
   "outputs": [
    {
     "data": {
      "text/plain": [
       "Response [https://projekt-spoznaj.si/videoposnetki-in-predstavitve/fair/]\n",
       "  Date: 2024-11-18 08:51\n",
       "  Status: 200\n",
       "  Content-Type: text/html; charset=UTF-8\n",
       "  Size: 169 kB\n",
       "<!DOCTYPE html>\n",
       "<!--[if IE 7]><html class=\"ie ie7\" lang=\"sl-SI\">\n",
       "<![endif]-->\n",
       "<!--[if IE 8]><html class=\"ie ie8\" lang=\"sl-SI\">\n",
       "<![endif]-->\n",
       "<!--[if !(IE 7) | !(IE 8)  ]><!--><html lang=\"sl-SI\" class=\"no-js\">\n",
       "<!--<![endif]--><head><script data-no-optimize=\"1\">var litespeed_docref=sessi...\n",
       "body {\n",
       "font-family : 'Roboto'!important;\n",
       "}</style><style id=\"wfc-style-fonts-menu_items\" type=\"text/css\" data-origin=\"...\n",
       "..."
      ]
     },
     "metadata": {},
     "output_type": "display_data"
    },
    {
     "name": "stderr",
     "output_type": "stream",
     "text": [
      "starting httpd help server ...\n",
      " done\n",
      "\n"
     ]
    },
    {
     "data": {
      "text/html": [
       "<span style=white-space:pre-wrap>'&lt;!DOCTYPE html&gt;\\n&lt;!--[if IE 7]&gt;&lt;html class=\"ie ie7\" lang=\"sl-SI\"&gt;\\n&lt;![endif]--&gt;\\n&lt;!--[if IE 8]&gt;&lt;html class=\"ie ie8\" lang=\"sl-SI\"&gt;\\n&lt;![endif]--&gt;\\n&lt;!--[if !(IE 7) | !(IE 8)  ]&gt;&lt;!--&gt;&lt;html lang=\"sl-SI\" class=\"no-js\"&gt;\\n&lt;!--&lt;![endif]--&gt;&lt;head&gt;&lt;script data-no-optimize=\"1\"&gt;var litespeed_docref=sessionStorage.getItem(\"litespeed_docref\");litespeed_docref&amp;&amp;(Object.defineProperty(document,\"referrer\",{get:function(){return litespeed_docref}}),sessionStorage.removeItem(\"litespeed_docref\"));&lt;/script&gt; &lt;meta charset=\"UTF-8\" /&gt;&lt;style id=\"litespeed-ccss\"&gt;body{font-family:\\'Roboto\\'!important}.tc-header .nav__menu li a.nav__link,[class*=nav__menu] .nav__link-wrapper .caret__dropdown-toggler{font-family:\\'Roboto\\'!important}input:-webkit-autofill{-webkit-box-shadow:0 0 0 30px #fff inset}ul{box-sizing:border-box}.entry-content{counter-reset:footnotes}:root{--wp--preset--font-size--normal:16px;--wp--preset--font-size--huge:42px}.screen-reader-text{border:0;clip:rect(1px,1px,1px,1px);-webkit-clip-path:inset(50%);clip-pa'</span>"
      ],
      "text/latex": [
       "'<!DOCTYPE html>\\textbackslash{}n<!--{[}if IE 7{]}><html class=\"ie ie7\" lang=\"sl-SI\">\\textbackslash{}n<!{[}endif{]}-->\\textbackslash{}n<!--{[}if IE 8{]}><html class=\"ie ie8\" lang=\"sl-SI\">\\textbackslash{}n<!{[}endif{]}-->\\textbackslash{}n<!--{[}if !(IE 7) \\textbar{} !(IE 8)  {]}><!--><html lang=\"sl-SI\" class=\"no-js\">\\textbackslash{}n<!--<!{[}endif{]}--><head><script data-no-optimize=\"1\">var litespeed\\_docref=sessionStorage.getItem(\"litespeed\\_docref\");litespeed\\_docref\\&\\&(Object.defineProperty(document,\"referrer\",\\{get:function()\\{return litespeed\\_docref\\}\\}),sessionStorage.removeItem(\"litespeed\\_docref\"));</script> <meta charset=\"UTF-8\" /><style id=\"litespeed-ccss\">body\\{font-family:\\textbackslash{}'Roboto\\textbackslash{}'!important\\}.tc-header .nav\\_\\_menu li a.nav\\_\\_link,{[}class*=nav\\_\\_menu{]} .nav\\_\\_link-wrapper .caret\\_\\_dropdown-toggler\\{font-family:\\textbackslash{}'Roboto\\textbackslash{}'!important\\}input:-webkit-autofill\\{-webkit-box-shadow:0 0 0 30px \\#fff inset\\}ul\\{box-sizing:border-box\\}.entry-content\\{counter-reset:footnotes\\}:root\\{--wp--preset--font-size--normal:16px;--wp--preset--font-size--huge:42px\\}.screen-reader-text\\{border:0;clip:rect(1px,1px,1px,1px);-webkit-clip-path:inset(50\\%);clip-pa'"
      ],
      "text/markdown": [
       "<span style=white-space:pre-wrap>'&lt;!DOCTYPE html&gt;\\n&lt;!--[if IE 7]&gt;&lt;html class=\"ie ie7\" lang=\"sl-SI\"&gt;\\n&lt;![endif]--&gt;\\n&lt;!--[if IE 8]&gt;&lt;html class=\"ie ie8\" lang=\"sl-SI\"&gt;\\n&lt;![endif]--&gt;\\n&lt;!--[if !(IE 7) | !(IE 8)  ]&gt;&lt;!--&gt;&lt;html lang=\"sl-SI\" class=\"no-js\"&gt;\\n&lt;!--&lt;![endif]--&gt;&lt;head&gt;&lt;script data-no-optimize=\"1\"&gt;var litespeed_docref=sessionStorage.getItem(\"litespeed_docref\");litespeed_docref&amp;&amp;(Object.defineProperty(document,\"referrer\",{get:function(){return litespeed_docref}}),sessionStorage.removeItem(\"litespeed_docref\"));&lt;/script&gt; &lt;meta charset=\"UTF-8\" /&gt;&lt;style id=\"litespeed-ccss\"&gt;body{font-family:\\'Roboto\\'!important}.tc-header .nav__menu li a.nav__link,[class*=nav__menu] .nav__link-wrapper .caret__dropdown-toggler{font-family:\\'Roboto\\'!important}input:-webkit-autofill{-webkit-box-shadow:0 0 0 30px #fff inset}ul{box-sizing:border-box}.entry-content{counter-reset:footnotes}:root{--wp--preset--font-size--normal:16px;--wp--preset--font-size--huge:42px}.screen-reader-text{border:0;clip:rect(1px,1px,1px,1px);-webkit-clip-path:inset(50%);clip-pa'</span>"
      ],
      "text/plain": [
       "[1] \"<!DOCTYPE html>\\n<!--[if IE 7]><html class=\\\"ie ie7\\\" lang=\\\"sl-SI\\\">\\n<![endif]-->\\n<!--[if IE 8]><html class=\\\"ie ie8\\\" lang=\\\"sl-SI\\\">\\n<![endif]-->\\n<!--[if !(IE 7) | !(IE 8)  ]><!--><html lang=\\\"sl-SI\\\" class=\\\"no-js\\\">\\n<!--<![endif]--><head><script data-no-optimize=\\\"1\\\">var litespeed_docref=sessionStorage.getItem(\\\"litespeed_docref\\\");litespeed_docref&&(Object.defineProperty(document,\\\"referrer\\\",{get:function(){return litespeed_docref}}),sessionStorage.removeItem(\\\"litespeed_docref\\\"));</script> <meta charset=\\\"UTF-8\\\" /><style id=\\\"litespeed-ccss\\\">body{font-family:'Roboto'!important}.tc-header .nav__menu li a.nav__link,[class*=nav__menu] .nav__link-wrapper .caret__dropdown-toggler{font-family:'Roboto'!important}input:-webkit-autofill{-webkit-box-shadow:0 0 0 30px #fff inset}ul{box-sizing:border-box}.entry-content{counter-reset:footnotes}:root{--wp--preset--font-size--normal:16px;--wp--preset--font-size--huge:42px}.screen-reader-text{border:0;clip:rect(1px,1px,1px,1px);-webkit-clip-path:inset(50%);clip-pa\""
      ]
     },
     "metadata": {},
     "output_type": "display_data"
    },
    {
     "data": {
      "text/html": [
       "<style>\n",
       ".list-inline {list-style: none; margin:0; padding: 0}\n",
       ".list-inline>li {display: inline-block}\n",
       ".list-inline>li:not(:last-child)::after {content: \"\\00b7\"; padding: 0 .5ex}\n",
       "</style>\n",
       "<ol class=list-inline><li><span style=white-space:pre-wrap>'&lt;a href=\"https://projekt-spoznaj.si/video/odprta-znanost-v-evropskem-raziskovalnem-prostoru-1/\" class=\"aiovg-link-title\"&gt;\\nOdprta znanost v Evropskem raziskovalnem prostoru (23. 6. 2023)                &lt;/a&gt;'</span></li><li><span style=white-space:pre-wrap>'&lt;a href=\"https://projekt-spoznaj.si/video/odprta-znanost-v-evropskem-raziskovalnem-prostoru/\" class=\"aiovg-link-title\"&gt;\\nOdprta znanost v Evropskem raziskovalnem prostoru, ponovitev (7. 9. 2023)                &lt;/a&gt;'</span></li><li><span style=white-space:pre-wrap>'&lt;a href=\"https://projekt-spoznaj.si/video/nacionalna-zakonodaja-na-podrocju-odprte-znanosti/\" class=\"aiovg-link-title\"&gt;\\nNacionalna zakonodaja na področju odprte znanosti (14. 9. 2023)                &lt;/a&gt;'</span></li><li><span style=white-space:pre-wrap>'&lt;a href=\"https://projekt-spoznaj.si/video/slovenska-skupnost-odprte-znanosti/\" class=\"aiovg-link-title\"&gt;\\nSlovenska skupnost odprte znanosti (21. 9. 2023)                &lt;/a&gt;'</span></li><li><span style=white-space:pre-wrap>'&lt;a href=\"https://projekt-spoznaj.si/video/moznosti-in-ugodnosti-pri-odprtem-objavljanju-za-slovensko-akademsko-skupnost/\" class=\"aiovg-link-title\"&gt;\\nMožnosti in ugodnosti pri odprtem objavljanju za slovensko akademsko skupnost (28. 9. 2023)                &lt;/a&gt;'</span></li><li><span style=white-space:pre-wrap>'&lt;a href=\"https://projekt-spoznaj.si/video/platforma-za-odprte-objave-open-research-europe/\" class=\"aiovg-link-title\"&gt;\\nPlatforma za odprte objave Open Research Europe (12. 10. 2023)                &lt;/a&gt;'</span></li></ol>\n"
      ],
      "text/latex": [
       "\\begin{enumerate*}\n",
       "\\item '<a href=\"https://projekt-spoznaj.si/video/odprta-znanost-v-evropskem-raziskovalnem-prostoru-1/\" class=\"aiovg-link-title\">\\textbackslash{}nOdprta znanost v Evropskem raziskovalnem prostoru (23. 6. 2023)                </a>'\n",
       "\\item '<a href=\"https://projekt-spoznaj.si/video/odprta-znanost-v-evropskem-raziskovalnem-prostoru/\" class=\"aiovg-link-title\">\\textbackslash{}nOdprta znanost v Evropskem raziskovalnem prostoru, ponovitev (7. 9. 2023)                </a>'\n",
       "\\item '<a href=\"https://projekt-spoznaj.si/video/nacionalna-zakonodaja-na-podrocju-odprte-znanosti/\" class=\"aiovg-link-title\">\\textbackslash{}nNacionalna zakonodaja na področju odprte znanosti (14. 9. 2023)                </a>'\n",
       "\\item '<a href=\"https://projekt-spoznaj.si/video/slovenska-skupnost-odprte-znanosti/\" class=\"aiovg-link-title\">\\textbackslash{}nSlovenska skupnost odprte znanosti (21. 9. 2023)                </a>'\n",
       "\\item '<a href=\"https://projekt-spoznaj.si/video/moznosti-in-ugodnosti-pri-odprtem-objavljanju-za-slovensko-akademsko-skupnost/\" class=\"aiovg-link-title\">\\textbackslash{}nMožnosti in ugodnosti pri odprtem objavljanju za slovensko akademsko skupnost (28. 9. 2023)                </a>'\n",
       "\\item '<a href=\"https://projekt-spoznaj.si/video/platforma-za-odprte-objave-open-research-europe/\" class=\"aiovg-link-title\">\\textbackslash{}nPlatforma za odprte objave Open Research Europe (12. 10. 2023)                </a>'\n",
       "\\end{enumerate*}\n"
      ],
      "text/markdown": [
       "1. <span style=white-space:pre-wrap>'&lt;a href=\"https://projekt-spoznaj.si/video/odprta-znanost-v-evropskem-raziskovalnem-prostoru-1/\" class=\"aiovg-link-title\"&gt;\\nOdprta znanost v Evropskem raziskovalnem prostoru (23. 6. 2023)                &lt;/a&gt;'</span>\n",
       "2. <span style=white-space:pre-wrap>'&lt;a href=\"https://projekt-spoznaj.si/video/odprta-znanost-v-evropskem-raziskovalnem-prostoru/\" class=\"aiovg-link-title\"&gt;\\nOdprta znanost v Evropskem raziskovalnem prostoru, ponovitev (7. 9. 2023)                &lt;/a&gt;'</span>\n",
       "3. <span style=white-space:pre-wrap>'&lt;a href=\"https://projekt-spoznaj.si/video/nacionalna-zakonodaja-na-podrocju-odprte-znanosti/\" class=\"aiovg-link-title\"&gt;\\nNacionalna zakonodaja na področju odprte znanosti (14. 9. 2023)                &lt;/a&gt;'</span>\n",
       "4. <span style=white-space:pre-wrap>'&lt;a href=\"https://projekt-spoznaj.si/video/slovenska-skupnost-odprte-znanosti/\" class=\"aiovg-link-title\"&gt;\\nSlovenska skupnost odprte znanosti (21. 9. 2023)                &lt;/a&gt;'</span>\n",
       "5. <span style=white-space:pre-wrap>'&lt;a href=\"https://projekt-spoznaj.si/video/moznosti-in-ugodnosti-pri-odprtem-objavljanju-za-slovensko-akademsko-skupnost/\" class=\"aiovg-link-title\"&gt;\\nMožnosti in ugodnosti pri odprtem objavljanju za slovensko akademsko skupnost (28. 9. 2023)                &lt;/a&gt;'</span>\n",
       "6. <span style=white-space:pre-wrap>'&lt;a href=\"https://projekt-spoznaj.si/video/platforma-za-odprte-objave-open-research-europe/\" class=\"aiovg-link-title\"&gt;\\nPlatforma za odprte objave Open Research Europe (12. 10. 2023)                &lt;/a&gt;'</span>\n",
       "\n",
       "\n"
      ],
      "text/plain": [
       "[1] \"<a href=\\\"https://projekt-spoznaj.si/video/odprta-znanost-v-evropskem-raziskovalnem-prostoru-1/\\\" class=\\\"aiovg-link-title\\\">\\nOdprta znanost v Evropskem raziskovalnem prostoru (23. 6. 2023)                </a>\"                                                      \n",
       "[2] \"<a href=\\\"https://projekt-spoznaj.si/video/odprta-znanost-v-evropskem-raziskovalnem-prostoru/\\\" class=\\\"aiovg-link-title\\\">\\nOdprta znanost v Evropskem raziskovalnem prostoru, ponovitev (7. 9. 2023)                </a>\"                                              \n",
       "[3] \"<a href=\\\"https://projekt-spoznaj.si/video/nacionalna-zakonodaja-na-podrocju-odprte-znanosti/\\\" class=\\\"aiovg-link-title\\\">\\nNacionalna zakonodaja na področju odprte znanosti (14. 9. 2023)                </a>\"                                                        \n",
       "[4] \"<a href=\\\"https://projekt-spoznaj.si/video/slovenska-skupnost-odprte-znanosti/\\\" class=\\\"aiovg-link-title\\\">\\nSlovenska skupnost odprte znanosti (21. 9. 2023)                </a>\"                                                                                      \n",
       "[5] \"<a href=\\\"https://projekt-spoznaj.si/video/moznosti-in-ugodnosti-pri-odprtem-objavljanju-za-slovensko-akademsko-skupnost/\\\" class=\\\"aiovg-link-title\\\">\\nMožnosti in ugodnosti pri odprtem objavljanju za slovensko akademsko skupnost (28. 9. 2023)                </a>\"\n",
       "[6] \"<a href=\\\"https://projekt-spoznaj.si/video/platforma-za-odprte-objave-open-research-europe/\\\" class=\\\"aiovg-link-title\\\">\\nPlatforma za odprte objave Open Research Europe (12. 10. 2023)                </a>\"                                                           "
      ]
     },
     "metadata": {},
     "output_type": "display_data"
    },
    {
     "data": {
      "text/html": [
       "<style>\n",
       ".list-inline {list-style: none; margin:0; padding: 0}\n",
       ".list-inline>li {display: inline-block}\n",
       ".list-inline>li:not(:last-child)::after {content: \"\\00b7\"; padding: 0 .5ex}\n",
       "</style>\n",
       "<ol class=list-inline><li><span style=white-space:pre-wrap>'\\nOdprta znanost v Evropskem raziskovalnem prostoru (23. 6. 2023)                '</span></li><li><span style=white-space:pre-wrap>'\\nOdprta znanost v Evropskem raziskovalnem prostoru, ponovitev (7. 9. 2023)                '</span></li><li><span style=white-space:pre-wrap>'\\nNacionalna zakonodaja na področju odprte znanosti (14. 9. 2023)                '</span></li><li><span style=white-space:pre-wrap>'\\nSlovenska skupnost odprte znanosti (21. 9. 2023)                '</span></li><li><span style=white-space:pre-wrap>'\\nMožnosti in ugodnosti pri odprtem objavljanju za slovensko akademsko skupnost (28. 9. 2023)                '</span></li><li><span style=white-space:pre-wrap>'\\nPlatforma za odprte objave Open Research Europe (12. 10. 2023)                '</span></li></ol>\n"
      ],
      "text/latex": [
       "\\begin{enumerate*}\n",
       "\\item '\\textbackslash{}nOdprta znanost v Evropskem raziskovalnem prostoru (23. 6. 2023)                '\n",
       "\\item '\\textbackslash{}nOdprta znanost v Evropskem raziskovalnem prostoru, ponovitev (7. 9. 2023)                '\n",
       "\\item '\\textbackslash{}nNacionalna zakonodaja na področju odprte znanosti (14. 9. 2023)                '\n",
       "\\item '\\textbackslash{}nSlovenska skupnost odprte znanosti (21. 9. 2023)                '\n",
       "\\item '\\textbackslash{}nMožnosti in ugodnosti pri odprtem objavljanju za slovensko akademsko skupnost (28. 9. 2023)                '\n",
       "\\item '\\textbackslash{}nPlatforma za odprte objave Open Research Europe (12. 10. 2023)                '\n",
       "\\end{enumerate*}\n"
      ],
      "text/markdown": [
       "1. <span style=white-space:pre-wrap>'\\nOdprta znanost v Evropskem raziskovalnem prostoru (23. 6. 2023)                '</span>\n",
       "2. <span style=white-space:pre-wrap>'\\nOdprta znanost v Evropskem raziskovalnem prostoru, ponovitev (7. 9. 2023)                '</span>\n",
       "3. <span style=white-space:pre-wrap>'\\nNacionalna zakonodaja na področju odprte znanosti (14. 9. 2023)                '</span>\n",
       "4. <span style=white-space:pre-wrap>'\\nSlovenska skupnost odprte znanosti (21. 9. 2023)                '</span>\n",
       "5. <span style=white-space:pre-wrap>'\\nMožnosti in ugodnosti pri odprtem objavljanju za slovensko akademsko skupnost (28. 9. 2023)                '</span>\n",
       "6. <span style=white-space:pre-wrap>'\\nPlatforma za odprte objave Open Research Europe (12. 10. 2023)                '</span>\n",
       "\n",
       "\n"
      ],
      "text/plain": [
       "[1] \"\\nOdprta znanost v Evropskem raziskovalnem prostoru (23. 6. 2023)                \"                            \n",
       "[2] \"\\nOdprta znanost v Evropskem raziskovalnem prostoru, ponovitev (7. 9. 2023)                \"                  \n",
       "[3] \"\\nNacionalna zakonodaja na področju odprte znanosti (14. 9. 2023)                \"                            \n",
       "[4] \"\\nSlovenska skupnost odprte znanosti (21. 9. 2023)                \"                                           \n",
       "[5] \"\\nMožnosti in ugodnosti pri odprtem objavljanju za slovensko akademsko skupnost (28. 9. 2023)                \"\n",
       "[6] \"\\nPlatforma za odprte objave Open Research Europe (12. 10. 2023)                \"                             "
      ]
     },
     "metadata": {},
     "output_type": "display_data"
    }
   ],
   "source": [
    "(response = httr::GET(base_url))\n",
    "webpage = httr::content(response, as = \"text\", encoding = \"UTF-8\")\n",
    "??substr\n",
    "substr(webpage, 1, 1000)\n",
    "title_pattern = \"<a[^>]*class=\\\"aiovg-link-title\\\"[^>]*>(.*?)</a>\"\n",
    "lecture_titles = regmatches(webpage, gregexpr(title_pattern, webpage))[[1]]\n",
    "head(lecture_titles)\n",
    "lecture_titles = gsub(title_pattern, \"\\\\1\", lecture_titles)\n",
    "head(lecture_titles)"
   ]
  },
  {
   "cell_type": "markdown",
   "metadata": {},
   "source": [
    "## scrape"
   ]
  },
  {
   "cell_type": "code",
   "execution_count": 14,
   "metadata": {
    "vscode": {
     "languageId": "r"
    }
   },
   "outputs": [
    {
     "data": {
      "text/html": [
       "2"
      ],
      "text/latex": [
       "2"
      ],
      "text/markdown": [
       "2"
      ],
      "text/plain": [
       "[1] 2"
      ]
     },
     "metadata": {},
     "output_type": "display_data"
    },
    {
     "data": {
      "text/html": [
       "<style>\n",
       ".list-inline {list-style: none; margin:0; padding: 0}\n",
       ".list-inline>li {display: inline-block}\n",
       ".list-inline>li:not(:last-child)::after {content: \"\\00b7\"; padding: 0 .5ex}\n",
       "</style>\n",
       "<ol class=list-inline><li>'https://projekt-spoznaj.si/videoposnetki-in-predstavitve/fair/'</li><li>'https://projekt-spoznaj.si/videoposnetki-in-predstavitve/fair/page/2/'</li></ol>\n"
      ],
      "text/latex": [
       "\\begin{enumerate*}\n",
       "\\item 'https://projekt-spoznaj.si/videoposnetki-in-predstavitve/fair/'\n",
       "\\item 'https://projekt-spoznaj.si/videoposnetki-in-predstavitve/fair/page/2/'\n",
       "\\end{enumerate*}\n"
      ],
      "text/markdown": [
       "1. 'https://projekt-spoznaj.si/videoposnetki-in-predstavitve/fair/'\n",
       "2. 'https://projekt-spoznaj.si/videoposnetki-in-predstavitve/fair/page/2/'\n",
       "\n",
       "\n"
      ],
      "text/plain": [
       "[1] \"https://projekt-spoznaj.si/videoposnetki-in-predstavitve/fair/\"       \n",
       "[2] \"https://projekt-spoznaj.si/videoposnetki-in-predstavitve/fair/page/2/\""
      ]
     },
     "metadata": {},
     "output_type": "display_data"
    },
    {
     "data": {
      "text/html": [
       "<table class=\"dataframe\">\n",
       "<caption>A data.table: 23 × 2</caption>\n",
       "<thead>\n",
       "\t<tr><th scope=col>Date</th><th scope=col>Lecture_Title</th></tr>\n",
       "\t<tr><th scope=col>&lt;date&gt;</th><th scope=col>&lt;chr&gt;</th></tr>\n",
       "</thead>\n",
       "<tbody>\n",
       "\t<tr><td>2023-06-23</td><td>Odprta znanost v Evropskem raziskovalnem prostoru                                                                                                   </td></tr>\n",
       "\t<tr><td>2023-09-07</td><td>Odprta znanost v Evropskem raziskovalnem prostoru, ponovitev                                                                                        </td></tr>\n",
       "\t<tr><td>2023-09-14</td><td>Nacionalna zakonodaja na področju odprte znanosti                                                                                                   </td></tr>\n",
       "\t<tr><td>2023-09-21</td><td>Slovenska skupnost odprte znanosti                                                                                                                  </td></tr>\n",
       "\t<tr><td>2023-09-28</td><td>Možnosti in ugodnosti pri odprtem objavljanju za slovensko akademsko skupnost                                                                       </td></tr>\n",
       "\t<tr><td>2023-10-12</td><td>Platforma za odprte objave Open Research Europe                                                                                                     </td></tr>\n",
       "\t<tr><td>2023-10-19</td><td>Nezaupanja vredne založniške prakse                                                                                                                 </td></tr>\n",
       "\t<tr><td>2023-10-26</td><td>Temeljna načela delovanja kOAlicije S                                                                                                               </td></tr>\n",
       "\t<tr><td>2023-11-23</td><td>Storitve Arnes v podporo odprti znanosti                                                                                                            </td></tr>\n",
       "\t<tr><td>2023-12-07</td><td>Nacionalna infrastruktura odprte znanosti                                                                                                           </td></tr>\n",
       "\t<tr><td>2024-01-11</td><td>Evropski oblak odprte znanosti (EOSC)                                                                                                               </td></tr>\n",
       "\t<tr><td>2024-01-25</td><td>Kako lahko uporabim superračunalnik?                                                                                                                </td></tr>\n",
       "\t<tr><td>2024-02-01</td><td>Uvajanje sistema evalvacije raziskovalnega dela na Univerzi v Ljubljani                                                                             </td></tr>\n",
       "\t<tr><td>2024-03-07</td><td>Uvod v ravnanje z raziskovalnimi podatki po načelih FAIR                                                                                            </td></tr>\n",
       "\t<tr><td>2024-03-21</td><td>Načrtovanje ravnanja z raziskovalnimi podatki                                                                                                       </td></tr>\n",
       "\t<tr><td>2024-04-04</td><td>Podatkovne objave v odprti znanosti                                                                                                                 </td></tr>\n",
       "\t<tr><td>2024-04-18</td><td>Repozitoriji za raziskovalne podatke                                                                                                                </td></tr>\n",
       "\t<tr><td>2024-05-16</td><td>eGeologija – Infrastruktura prostorskih podatkov Geološkega zavoda Slovenije                                                                        </td></tr>\n",
       "\t<tr><td>2024-05-30</td><td>GeoNetwork platforma za kraške multidisciplinarne (meta)podatke                                                                                     </td></tr>\n",
       "\t<tr><td>2024-06-13</td><td>Kako do integriranih storitev za podporo raziskavam v dobi odprte znanosti / Towards Integrated Research Support Services in the Era of Open Science</td></tr>\n",
       "\t<tr><td>2024-09-19</td><td>Elektronski laboratorijski dnevniki                                                                                                                 </td></tr>\n",
       "\t<tr><td>2024-10-03</td><td>OpenAIRE Graph                                                                                                                                      </td></tr>\n",
       "\t<tr><td>2024-11-14</td><td>Osnove ravnanja z raziskovalnimi podatki za doktorske študente in njihove mentorje                                                                  </td></tr>\n",
       "</tbody>\n",
       "</table>\n"
      ],
      "text/latex": [
       "A data.table: 23 × 2\n",
       "\\begin{tabular}{ll}\n",
       " Date & Lecture\\_Title\\\\\n",
       " <date> & <chr>\\\\\n",
       "\\hline\n",
       "\t 2023-06-23 & Odprta znanost v Evropskem raziskovalnem prostoru                                                                                                   \\\\\n",
       "\t 2023-09-07 & Odprta znanost v Evropskem raziskovalnem prostoru, ponovitev                                                                                        \\\\\n",
       "\t 2023-09-14 & Nacionalna zakonodaja na področju odprte znanosti                                                                                                   \\\\\n",
       "\t 2023-09-21 & Slovenska skupnost odprte znanosti                                                                                                                  \\\\\n",
       "\t 2023-09-28 & Možnosti in ugodnosti pri odprtem objavljanju za slovensko akademsko skupnost                                                                       \\\\\n",
       "\t 2023-10-12 & Platforma za odprte objave Open Research Europe                                                                                                     \\\\\n",
       "\t 2023-10-19 & Nezaupanja vredne založniške prakse                                                                                                                 \\\\\n",
       "\t 2023-10-26 & Temeljna načela delovanja kOAlicije S                                                                                                               \\\\\n",
       "\t 2023-11-23 & Storitve Arnes v podporo odprti znanosti                                                                                                            \\\\\n",
       "\t 2023-12-07 & Nacionalna infrastruktura odprte znanosti                                                                                                           \\\\\n",
       "\t 2024-01-11 & Evropski oblak odprte znanosti (EOSC)                                                                                                               \\\\\n",
       "\t 2024-01-25 & Kako lahko uporabim superračunalnik?                                                                                                                \\\\\n",
       "\t 2024-02-01 & Uvajanje sistema evalvacije raziskovalnega dela na Univerzi v Ljubljani                                                                             \\\\\n",
       "\t 2024-03-07 & Uvod v ravnanje z raziskovalnimi podatki po načelih FAIR                                                                                            \\\\\n",
       "\t 2024-03-21 & Načrtovanje ravnanja z raziskovalnimi podatki                                                                                                       \\\\\n",
       "\t 2024-04-04 & Podatkovne objave v odprti znanosti                                                                                                                 \\\\\n",
       "\t 2024-04-18 & Repozitoriji za raziskovalne podatke                                                                                                                \\\\\n",
       "\t 2024-05-16 & eGeologija – Infrastruktura prostorskih podatkov Geološkega zavoda Slovenije                                                                        \\\\\n",
       "\t 2024-05-30 & GeoNetwork platforma za kraške multidisciplinarne (meta)podatke                                                                                     \\\\\n",
       "\t 2024-06-13 & Kako do integriranih storitev za podporo raziskavam v dobi odprte znanosti / Towards Integrated Research Support Services in the Era of Open Science\\\\\n",
       "\t 2024-09-19 & Elektronski laboratorijski dnevniki                                                                                                                 \\\\\n",
       "\t 2024-10-03 & OpenAIRE Graph                                                                                                                                      \\\\\n",
       "\t 2024-11-14 & Osnove ravnanja z raziskovalnimi podatki za doktorske študente in njihove mentorje                                                                  \\\\\n",
       "\\end{tabular}\n"
      ],
      "text/markdown": [
       "\n",
       "A data.table: 23 × 2\n",
       "\n",
       "| Date &lt;date&gt; | Lecture_Title &lt;chr&gt; |\n",
       "|---|---|\n",
       "| 2023-06-23 | Odprta znanost v Evropskem raziskovalnem prostoru                                                                                                    |\n",
       "| 2023-09-07 | Odprta znanost v Evropskem raziskovalnem prostoru, ponovitev                                                                                         |\n",
       "| 2023-09-14 | Nacionalna zakonodaja na področju odprte znanosti                                                                                                    |\n",
       "| 2023-09-21 | Slovenska skupnost odprte znanosti                                                                                                                   |\n",
       "| 2023-09-28 | Možnosti in ugodnosti pri odprtem objavljanju za slovensko akademsko skupnost                                                                        |\n",
       "| 2023-10-12 | Platforma za odprte objave Open Research Europe                                                                                                      |\n",
       "| 2023-10-19 | Nezaupanja vredne založniške prakse                                                                                                                  |\n",
       "| 2023-10-26 | Temeljna načela delovanja kOAlicije S                                                                                                                |\n",
       "| 2023-11-23 | Storitve Arnes v podporo odprti znanosti                                                                                                             |\n",
       "| 2023-12-07 | Nacionalna infrastruktura odprte znanosti                                                                                                            |\n",
       "| 2024-01-11 | Evropski oblak odprte znanosti (EOSC)                                                                                                                |\n",
       "| 2024-01-25 | Kako lahko uporabim superračunalnik?                                                                                                                 |\n",
       "| 2024-02-01 | Uvajanje sistema evalvacije raziskovalnega dela na Univerzi v Ljubljani                                                                              |\n",
       "| 2024-03-07 | Uvod v ravnanje z raziskovalnimi podatki po načelih FAIR                                                                                             |\n",
       "| 2024-03-21 | Načrtovanje ravnanja z raziskovalnimi podatki                                                                                                        |\n",
       "| 2024-04-04 | Podatkovne objave v odprti znanosti                                                                                                                  |\n",
       "| 2024-04-18 | Repozitoriji za raziskovalne podatke                                                                                                                 |\n",
       "| 2024-05-16 | eGeologija – Infrastruktura prostorskih podatkov Geološkega zavoda Slovenije                                                                         |\n",
       "| 2024-05-30 | GeoNetwork platforma za kraške multidisciplinarne (meta)podatke                                                                                      |\n",
       "| 2024-06-13 | Kako do integriranih storitev za podporo raziskavam v dobi odprte znanosti / Towards Integrated Research Support Services in the Era of Open Science |\n",
       "| 2024-09-19 | Elektronski laboratorijski dnevniki                                                                                                                  |\n",
       "| 2024-10-03 | OpenAIRE Graph                                                                                                                                       |\n",
       "| 2024-11-14 | Osnove ravnanja z raziskovalnimi podatki za doktorske študente in njihove mentorje                                                                   |\n",
       "\n"
      ],
      "text/plain": [
       "   Date      \n",
       "1  2023-06-23\n",
       "2  2023-09-07\n",
       "3  2023-09-14\n",
       "4  2023-09-21\n",
       "5  2023-09-28\n",
       "6  2023-10-12\n",
       "7  2023-10-19\n",
       "8  2023-10-26\n",
       "9  2023-11-23\n",
       "10 2023-12-07\n",
       "11 2024-01-11\n",
       "12 2024-01-25\n",
       "13 2024-02-01\n",
       "14 2024-03-07\n",
       "15 2024-03-21\n",
       "16 2024-04-04\n",
       "17 2024-04-18\n",
       "18 2024-05-16\n",
       "19 2024-05-30\n",
       "20 2024-06-13\n",
       "21 2024-09-19\n",
       "22 2024-10-03\n",
       "23 2024-11-14\n",
       "   Lecture_Title                                                                                                                                       \n",
       "1  Odprta znanost v Evropskem raziskovalnem prostoru                                                                                                   \n",
       "2  Odprta znanost v Evropskem raziskovalnem prostoru, ponovitev                                                                                        \n",
       "3  Nacionalna zakonodaja na področju odprte znanosti                                                                                                   \n",
       "4  Slovenska skupnost odprte znanosti                                                                                                                  \n",
       "5  Možnosti in ugodnosti pri odprtem objavljanju za slovensko akademsko skupnost                                                                       \n",
       "6  Platforma za odprte objave Open Research Europe                                                                                                     \n",
       "7  Nezaupanja vredne založniške prakse                                                                                                                 \n",
       "8  Temeljna načela delovanja kOAlicije S                                                                                                               \n",
       "9  Storitve Arnes v podporo odprti znanosti                                                                                                            \n",
       "10 Nacionalna infrastruktura odprte znanosti                                                                                                           \n",
       "11 Evropski oblak odprte znanosti (EOSC)                                                                                                               \n",
       "12 Kako lahko uporabim superračunalnik?                                                                                                                \n",
       "13 Uvajanje sistema evalvacije raziskovalnega dela na Univerzi v Ljubljani                                                                             \n",
       "14 Uvod v ravnanje z raziskovalnimi podatki po načelih FAIR                                                                                            \n",
       "15 Načrtovanje ravnanja z raziskovalnimi podatki                                                                                                       \n",
       "16 Podatkovne objave v odprti znanosti                                                                                                                 \n",
       "17 Repozitoriji za raziskovalne podatke                                                                                                                \n",
       "18 eGeologija – Infrastruktura prostorskih podatkov Geološkega zavoda Slovenije                                                                        \n",
       "19 GeoNetwork platforma za kraške multidisciplinarne (meta)podatke                                                                                     \n",
       "20 Kako do integriranih storitev za podporo raziskavam v dobi odprte znanosti / Towards Integrated Research Support Services in the Era of Open Science\n",
       "21 Elektronski laboratorijski dnevniki                                                                                                                 \n",
       "22 OpenAIRE Graph                                                                                                                                      \n",
       "23 Osnove ravnanja z raziskovalnimi podatki za doktorske študente in njihove mentorje                                                                  "
      ]
     },
     "metadata": {},
     "output_type": "display_data"
    }
   ],
   "source": [
    "(total_pages = find_total_pages(base_url))\n",
    "(urls = c(base_url, paste0(base_url, \"page/\", 2:total_pages, \"/\")))\n",
    "\n",
    "lectures_dt = data.table::rbindlist(lapply(urls, scrape_page))\n",
    "lectures_dt"
   ]
  },
  {
   "cell_type": "markdown",
   "metadata": {},
   "source": [
    "# session info"
   ]
  },
  {
   "cell_type": "code",
   "execution_count": 15,
   "metadata": {
    "vscode": {
     "languageId": "r"
    }
   },
   "outputs": [
    {
     "data": {
      "text/plain": [
       "R version 4.3.1 (2023-06-16 ucrt)\n",
       "Platform: x86_64-w64-mingw32/x64 (64-bit)\n",
       "Running under: Windows 10 x64 (build 19045)\n",
       "\n",
       "Matrix products: default\n",
       "\n",
       "\n",
       "locale:\n",
       "[1] LC_COLLATE=English_United Kingdom.utf8 \n",
       "[2] LC_CTYPE=English_United Kingdom.utf8   \n",
       "[3] LC_MONETARY=English_United Kingdom.utf8\n",
       "[4] LC_NUMERIC=C                           \n",
       "[5] LC_TIME=English_United Kingdom.utf8    \n",
       "\n",
       "time zone: Europe/Ljubljana\n",
       "tzcode source: internal\n",
       "\n",
       "attached base packages:\n",
       "[1] stats     graphics  grDevices utils     datasets  methods   base     \n",
       "\n",
       "other attached packages:\n",
       "[1] magrittr_2.0.3\n",
       "\n",
       "loaded via a namespace (and not attached):\n",
       " [1] zip_2.3.1         crayon_1.5.3      vctrs_0.6.5       httr_1.4.7       \n",
       " [5] cli_3.6.3         rlang_1.1.4       stringi_1.8.4     data.table_1.16.0\n",
       " [9] jsonlite_1.8.8    glue_1.7.0        selectr_0.4-2     htmltools_0.5.8.1\n",
       "[13] IRdisplay_1.1     IRkernel_1.3.2    fansi_1.0.6       evaluate_0.24.0  \n",
       "[17] fastmap_1.2.0     base64enc_0.1-3   openxlsx_4.2.7    lifecycle_1.0.4  \n",
       "[21] stringr_1.5.1     compiler_4.3.1    rvest_1.0.4       Rcpp_1.0.13      \n",
       "[25] pbdZMQ_0.3-12     digest_0.6.37     R6_2.5.1          repr_1.1.7       \n",
       "[29] utf8_1.2.4        pillar_1.9.0      curl_5.2.2        uuid_1.2-1       \n",
       "[33] tools_4.3.1       xml2_1.3.6       "
      ]
     },
     "metadata": {},
     "output_type": "display_data"
    }
   ],
   "source": [
    "sessionInfo()"
   ]
  }
 ],
 "metadata": {
  "kernelspec": {
   "display_name": "R",
   "language": "R",
   "name": "ir"
  },
  "language_info": {
   "codemirror_mode": "r",
   "file_extension": ".r",
   "mimetype": "text/x-r-source",
   "name": "R",
   "pygments_lexer": "r",
   "version": "4.3.1"
  }
 },
 "nbformat": 4,
 "nbformat_minor": 2
}
